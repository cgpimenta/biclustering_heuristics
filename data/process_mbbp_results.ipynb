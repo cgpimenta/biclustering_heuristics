{
 "cells": [
  {
   "cell_type": "code",
   "execution_count": 49,
   "metadata": {
    "ExecuteTime": {
     "end_time": "2018-11-05T20:31:24.578328Z",
     "start_time": "2018-11-05T20:31:24.492309Z"
    }
   },
   "outputs": [],
   "source": [
    "import numpy as np\n",
    "import pandas as pd\n",
    "\n",
    "paths_input = {\n",
    "    'breast': '../results/mbbp/mbbp_breast_raw.txt',\n",
    "    'mice': '../results/mbbp/mbbp_mice_raw.txt',\n",
    "    'yeast': '../results/mbbp/mbbp_yeast_raw.txt'\n",
    "}\n",
    "\n",
    "paths_output = {\n",
    "    'breast': '../results/mbbp/mbbp_breast_proc.txt',\n",
    "    'mice': '../results/mbbp/mbbp_mice_proc.txt',\n",
    "    'yeast': '../results/mbbp/mbbp_yeast_proc.txt'\n",
    "}"
   ]
  },
  {
   "cell_type": "code",
   "execution_count": 45,
   "metadata": {
    "ExecuteTime": {
     "end_time": "2018-11-05T20:29:12.222779Z",
     "start_time": "2018-11-05T20:29:12.212695Z"
    }
   },
   "outputs": [
    {
     "name": "stdout",
     "output_type": "stream",
     "text": [
      "12553 83\n",
      "\n",
      "347 426 560 578 606 670 716 846 928 1018 1037 1045 1089 1110 1285 1407 1487 1605 1620 1721 1796 1828 1904 2016 2135 2165 2325 2343 2393 2472 2536 2545 2564 2566 2582 2662 2701 2767 3002 3022 3114 3194 3209 3484 3539 3744 3752 3907 4014 4023 4083 4339 4341 4450 4613 4933 4941 5006 5141 5153 5189 5244 5573 6238 6249 6298 6322 6465 7115 7432 9274 9532 9736 9767 10007 10148\n",
      "\n",
      "12554 12555 12556 12557 12558 12559 12560 12561 12562 12563 12564 12565 12566 12567 12568 12569 12570 12571 12572 12573 12574 12575 12576 12577 12578 12579 12580 12581 12584 12585 12586 12587 12588 12589 12590 12591 12592 12594 12595 12597 12598 12599 12600 12602 12603 12604 12606 12607 12608 12609 12610 12611 12612 12613 12615 12616 12617 12618 12619 12620 12621 12622 12623 12624 12625 12626 12627 12628 12629 12630 12631 12632 12633 12634 12635 12636\n",
      "\n"
     ]
    }
   ],
   "source": [
    "with open(paths_input['breast'], 'r') as f:\n",
    "    for line in f:\n",
    "        print(line)"
   ]
  },
  {
   "cell_type": "code",
   "execution_count": 53,
   "metadata": {
    "ExecuteTime": {
     "end_time": "2018-11-05T20:34:07.579568Z",
     "start_time": "2018-11-05T20:34:07.567491Z"
    }
   },
   "outputs": [],
   "source": [
    "for file in ['breast', 'mice', 'yeast']:\n",
    "    with open(paths_input[file], 'r') as f:\n",
    "        num_rows, num_cols = [int(x) for x in f.readline().strip().split(' ')]\n",
    "        rows = [int(x) - 1 for x in f.readline().strip().split(' ')]\n",
    "        cols = [int(x) - num_rows - 1 for x in f.readline().strip().split(' ')]\n",
    "\n",
    "    np.savetxt(paths_output[file], [rows, cols], fmt='%d')"
   ]
  },
  {
   "cell_type": "code",
   "execution_count": 47,
   "metadata": {
    "ExecuteTime": {
     "end_time": "2018-11-05T20:29:21.896421Z",
     "start_time": "2018-11-05T20:29:21.886568Z"
    }
   },
   "outputs": [
    {
     "name": "stdout",
     "output_type": "stream",
     "text": [
      "12553\n",
      "83\n",
      "[346, 425, 559, 577, 605, 669, 715, 845, 927, 1017, 1036, 1044, 1088, 1109, 1284, 1406, 1486, 1604, 1619, 1720, 1795, 1827, 1903, 2015, 2134, 2164, 2324, 2342, 2392, 2471, 2535, 2544, 2563, 2565, 2581, 2661, 2700, 2766, 3001, 3021, 3113, 3193, 3208, 3483, 3538, 3743, 3751, 3906, 4013, 4022, 4082, 4338, 4340, 4449, 4612, 4932, 4940, 5005, 5140, 5152, 5188, 5243, 5572, 6237, 6248, 6297, 6321, 6464, 7114, 7431, 9273, 9531, 9735, 9766, 10006, 10147]\n",
      "[0, 1, 2, 3, 4, 5, 6, 7, 8, 9, 10, 11, 12, 13, 14, 15, 16, 17, 18, 19, 20, 21, 22, 23, 24, 25, 26, 27, 30, 31, 32, 33, 34, 35, 36, 37, 38, 40, 41, 43, 44, 45, 46, 48, 49, 50, 52, 53, 54, 55, 56, 57, 58, 59, 61, 62, 63, 64, 65, 66, 67, 68, 69, 70, 71, 72, 73, 74, 75, 76, 77, 78, 79, 80, 81, 82]\n"
     ]
    }
   ],
   "source": [
    "print(num_rows)\n",
    "print(num_cols)\n",
    "print(rows)\n",
    "print(cols)"
   ]
  },
  {
   "cell_type": "code",
   "execution_count": null,
   "metadata": {},
   "outputs": [],
   "source": [
    "np"
   ]
  }
 ],
 "metadata": {
  "kernelspec": {
   "display_name": "Python 3",
   "language": "python",
   "name": "python3"
  },
  "language_info": {
   "codemirror_mode": {
    "name": "ipython",
    "version": 3
   },
   "file_extension": ".py",
   "mimetype": "text/x-python",
   "name": "python",
   "nbconvert_exporter": "python",
   "pygments_lexer": "ipython3",
   "version": "3.6.5"
  }
 },
 "nbformat": 4,
 "nbformat_minor": 2
}
