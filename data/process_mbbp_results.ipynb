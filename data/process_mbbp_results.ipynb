{
 "cells": [
  {
   "cell_type": "code",
   "execution_count": 1,
   "metadata": {
    "ExecuteTime": {
     "end_time": "2018-11-10T14:21:30.615150Z",
     "start_time": "2018-11-10T14:21:30.361742Z"
    }
   },
   "outputs": [],
   "source": [
    "import numpy as np\n",
    "import pandas as pd\n",
    "\n",
    "paths_input = {\n",
    "    'breast': '../results/mbbp/mbbp_breast_raw.txt',\n",
    "    'mice': '../results/mbbp/mbbp_mice_raw.txt',\n",
    "    'yeast': '../results/mbbp/mbbp_yeast_raw.txt',\n",
    "    'wine': '../results/mbbp/mbbp_wine_raw.txt',\n",
    "    'sales': '../results/mbbp/mbbp_sales_raw.txt'\n",
    "}\n",
    "\n",
    "paths_output = {\n",
    "    'breast': '../results/mbbp/mbbp_breast_proc.txt',\n",
    "    'mice': '../results/mbbp/mbbp_mice_proc.txt',\n",
    "    'yeast': '../results/mbbp/mbbp_yeast_proc.txt',\n",
    "    'wine': '../results/mbbp/mbbp_wine_proc.txt',\n",
    "    'sales': '../results/mbbp/mbbp_sales_proc.txt',\n",
    "    'breast_sep': '../results/mbbp/sep/mbbp_breast_{}.txt',\n",
    "    'mice_sep': '../results/mbbp/sep/mbbp_mice_{}.txt',\n",
    "    'yeast_sep': '../results/mbbp/sep/mbbp_yeast_{}.txt',\n",
    "    'wine_sep': '../results/mbbp/sep/mbbp_wine_{}.txt',\n",
    "    'sales_sep': '../results/mbbp/sep/mbbp_sales_{}.txt'\n",
    "}"
   ]
  },
  {
   "cell_type": "code",
   "execution_count": 2,
   "metadata": {
    "ExecuteTime": {
     "end_time": "2018-11-10T14:21:30.619800Z",
     "start_time": "2018-11-10T14:21:30.616396Z"
    }
   },
   "outputs": [
    {
     "name": "stdout",
     "output_type": "stream",
     "text": [
      "811 106\n",
      "\n",
      "11 15 17 35 42 45 47 51 52 61 62 73 76 79 83 85 88 89 90 96 100 101 130 133 135 142 143 168 169 173 174 184 185 187 188 200 263 284 407 505 509 511 514 524 528 531 533 556 564 610 613 615 620 621\n",
      "\n",
      "812 813 814 815 816 817 818 819 820 821 822 823 824 825 826 827 828 829 830 831 832 833 834 835 836 837 838 839 840 841 842 843 844 845 846 847 848 849 850 851 852 853 854 855 856 857 858 859 860 861 862 863 864 865 \n",
      "\n"
     ]
    }
   ],
   "source": [
    "with open(paths_input['sales'], 'r') as f:\n",
    "    for line in f:\n",
    "        print(line)"
   ]
  },
  {
   "cell_type": "code",
   "execution_count": 6,
   "metadata": {
    "ExecuteTime": {
     "end_time": "2018-11-10T14:22:36.431973Z",
     "start_time": "2018-11-10T14:22:36.425398Z"
    }
   },
   "outputs": [],
   "source": [
    "for file in ['sales']:\n",
    "    with open(paths_input[file], 'r') as f:\n",
    "        num_rows, num_cols = [int(x) for x in f.readline().strip().split(' ')]\n",
    "        rows = [int(x) - 1 for x in f.readline().strip().split(' ')]\n",
    "        cols = [int(x) - num_rows - 1 for x in f.readline().strip().split(' ')]\n",
    "    \n",
    "    np.savetxt(paths_output[file+'_sep'].format('rows'), [rows], fmt='%d', delimiter=',')\n",
    "    np.savetxt(paths_output[file+'_sep'].format('cols'), [cols], fmt='%d', delimiter=',')\n",
    "    \n",
    "    np.savetxt(paths_output[file], [rows, cols], fmt='%d')"
   ]
  },
  {
   "cell_type": "code",
   "execution_count": 4,
   "metadata": {
    "ExecuteTime": {
     "end_time": "2018-11-10T14:21:30.901549Z",
     "start_time": "2018-11-10T14:21:30.741923Z"
    }
   },
   "outputs": [
    {
     "name": "stdout",
     "output_type": "stream",
     "text": [
      "178\n",
      "13\n",
      "[38, 42, 62]\n",
      "[4, 12]\n"
     ]
    }
   ],
   "source": [
    "print(num_rows)\n",
    "print(num_cols)\n",
    "print(rows)\n",
    "print(cols)"
   ]
  }
 ],
 "metadata": {
  "kernelspec": {
   "display_name": "Python 3",
   "language": "python",
   "name": "python3"
  },
  "language_info": {
   "codemirror_mode": {
    "name": "ipython",
    "version": 3
   },
   "file_extension": ".py",
   "mimetype": "text/x-python",
   "name": "python",
   "nbconvert_exporter": "python",
   "pygments_lexer": "ipython3",
   "version": "3.6.5"
  }
 },
 "nbformat": 4,
 "nbformat_minor": 2
}
