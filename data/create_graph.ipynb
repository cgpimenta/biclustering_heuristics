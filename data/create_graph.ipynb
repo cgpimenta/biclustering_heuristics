{
 "cells": [
  {
   "cell_type": "code",
   "execution_count": 1,
   "metadata": {
    "ExecuteTime": {
     "end_time": "2018-11-10T14:18:19.000394Z",
     "start_time": "2018-11-10T14:18:18.764404Z"
    }
   },
   "outputs": [],
   "source": [
    "import pandas as pd\n",
    "\n",
    "file = 'sales'"
   ]
  },
  {
   "cell_type": "code",
   "execution_count": 2,
   "metadata": {
    "ExecuteTime": {
     "end_time": "2018-11-10T14:18:19.021280Z",
     "start_time": "2018-11-10T14:18:19.001642Z"
    }
   },
   "outputs": [],
   "source": [
    "df = pd.read_csv(file + '_binary.csv', header=None)"
   ]
  },
  {
   "cell_type": "code",
   "execution_count": 3,
   "metadata": {
    "ExecuteTime": {
     "end_time": "2018-11-10T14:18:19.124314Z",
     "start_time": "2018-11-10T14:18:19.022780Z"
    }
   },
   "outputs": [],
   "source": [
    "# df.head()"
   ]
  },
  {
   "cell_type": "code",
   "execution_count": 4,
   "metadata": {
    "ExecuteTime": {
     "end_time": "2018-11-10T14:18:19.236170Z",
     "start_time": "2018-11-10T14:18:19.125787Z"
    }
   },
   "outputs": [
    {
     "name": "stdout",
     "output_type": "stream",
     "text": [
      "811\n",
      "106\n"
     ]
    }
   ],
   "source": [
    "num_rows = df.shape[0]\n",
    "num_cols = df.shape[1]\n",
    "\n",
    "print(num_rows)\n",
    "print(num_cols)"
   ]
  },
  {
   "cell_type": "code",
   "execution_count": 5,
   "metadata": {
    "ExecuteTime": {
     "end_time": "2018-11-10T14:18:19.467660Z",
     "start_time": "2018-11-10T14:18:19.238380Z"
    }
   },
   "outputs": [],
   "source": [
    "import numpy as np\n",
    "\n",
    "num_vertices = num_rows + num_cols\n",
    "\n",
    "edges = []\n",
    "\n",
    "for row in range(num_rows):\n",
    "    edges.append(df.iloc[row].nonzero()[0])"
   ]
  },
  {
   "cell_type": "code",
   "execution_count": 6,
   "metadata": {
    "ExecuteTime": {
     "end_time": "2018-11-10T14:18:19.474041Z",
     "start_time": "2018-11-10T14:18:19.469755Z"
    }
   },
   "outputs": [
    {
     "name": "stdout",
     "output_type": "stream",
     "text": [
      "Num edges: 20112\n"
     ]
    }
   ],
   "source": [
    "lens = np.array([x.size for x in edges])\n",
    "num_edges = lens.sum()\n",
    "\n",
    "print('Num edges:', num_edges)"
   ]
  },
  {
   "cell_type": "code",
   "execution_count": 7,
   "metadata": {
    "ExecuteTime": {
     "end_time": "2018-11-10T14:18:19.674520Z",
     "start_time": "2018-11-10T14:18:19.477597Z"
    }
   },
   "outputs": [],
   "source": [
    "with open(file + '.clq', 'w') as f:\n",
    "    f.write(f'p edge {num_rows} {num_cols} {num_edges}\\n')\n",
    "    \n",
    "    for i, row in enumerate(edges):\n",
    "        for col in row:\n",
    "            f.write(f'e {i+1} {col+1}\\n')"
   ]
  }
 ],
 "metadata": {
  "kernelspec": {
   "display_name": "Python 3",
   "language": "python",
   "name": "python3"
  },
  "language_info": {
   "codemirror_mode": {
    "name": "ipython",
    "version": 3
   },
   "file_extension": ".py",
   "mimetype": "text/x-python",
   "name": "python",
   "nbconvert_exporter": "python",
   "pygments_lexer": "ipython3",
   "version": "3.6.5"
  }
 },
 "nbformat": 4,
 "nbformat_minor": 2
}
